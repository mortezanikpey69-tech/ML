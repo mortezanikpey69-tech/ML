{
 "cells": [
  {
   "cell_type": "code",
   "execution_count": 1,
   "id": "99675d29",
   "metadata": {},
   "outputs": [],
   "source": [
    "import numpy as np\n",
    "import pandas as pd\n",
    "import seaborn as sns\n",
    "from sklearn import linear_model\n",
    "import sklearn.metrics as sm\n",
    "from sklearn.model_selection import train_test_split\n",
    "import matplotlib.pyplot as plt"
   ]
  },
  {
   "cell_type": "code",
   "execution_count": 2,
   "id": "41166a89",
   "metadata": {},
   "outputs": [],
   "source": [
    "from sklearn import datasets \n",
    "#for download data set"
   ]
  },
  {
   "cell_type": "code",
   "execution_count": 3,
   "id": "dc39b6b8",
   "metadata": {},
   "outputs": [],
   "source": [
    "digit=datasets.load_digits()"
   ]
  },
  {
   "cell_type": "code",
   "execution_count": null,
   "id": "287db457",
   "metadata": {},
   "outputs": [
    {
     "data": {
      "text/plain": [
       "array([ 0.,  0.,  5., 13.,  9.,  1.,  0.,  0.,  0.,  0., 13., 15., 10.,\n",
       "       15.,  5.,  0.,  0.,  3., 15.,  2.,  0., 11.,  8.,  0.,  0.,  4.,\n",
       "       12.,  0.,  0.,  8.,  8.,  0.,  0.,  5.,  8.,  0.,  0.,  9.,  8.,\n",
       "        0.,  0.,  4., 11.,  0.,  1., 12.,  7.,  0.,  0.,  2., 14.,  5.,\n",
       "       10., 12.,  0.,  0.,  0.,  0.,  6., 13., 10.,  0.,  0.,  0.])"
      ]
     },
     "execution_count": 40,
     "metadata": {},
     "output_type": "execute_result"
    }
   ],
   "source": [
    "digit.data\n",
    "#this data is 64 pixel or 8x8 pixel"
   ]
  },
  {
   "cell_type": "code",
   "execution_count": 6,
   "id": "c7dd7e7e",
   "metadata": {},
   "outputs": [
    {
     "data": {
      "text/plain": [
       "(1797, 8, 8)"
      ]
     },
     "execution_count": 6,
     "metadata": {},
     "output_type": "execute_result"
    }
   ],
   "source": [
    "digit.images.shape"
   ]
  },
  {
   "cell_type": "code",
   "execution_count": null,
   "id": "e2b7ba3d",
   "metadata": {},
   "outputs": [
    {
     "data": {
      "text/plain": [
       "7"
      ]
     },
     "execution_count": 11,
     "metadata": {},
     "output_type": "execute_result"
    }
   ],
   "source": [
    "digit.target[0]\n",
    "\n",
    "\n",
    "#this is my output"
   ]
  },
  {
   "cell_type": "code",
   "execution_count": 14,
   "id": "13107447",
   "metadata": {},
   "outputs": [
    {
     "data": {
      "text/plain": [
       "1"
      ]
     },
     "execution_count": 14,
     "metadata": {},
     "output_type": "execute_result"
    }
   ],
   "source": [
    "digit.target[1]"
   ]
  },
  {
   "cell_type": "code",
   "execution_count": 12,
   "id": "800a2993",
   "metadata": {},
   "outputs": [
    {
     "data": {
      "text/plain": [
       "5"
      ]
     },
     "execution_count": 12,
     "metadata": {},
     "output_type": "execute_result"
    }
   ],
   "source": [
    "\n",
    "digit.target[5]"
   ]
  },
  {
   "cell_type": "code",
   "execution_count": 13,
   "id": "9e2ed57b",
   "metadata": {},
   "outputs": [
    {
     "data": {
      "text/plain": [
       "7"
      ]
     },
     "execution_count": 13,
     "metadata": {},
     "output_type": "execute_result"
    }
   ],
   "source": [
    "digit.target[1200]"
   ]
  },
  {
   "cell_type": "code",
   "execution_count": 9,
   "id": "14c8caa6",
   "metadata": {},
   "outputs": [
    {
     "data": {
      "text/plain": [
       "<matplotlib.image.AxesImage at 0x136a9ecb700>"
      ]
     },
     "execution_count": 9,
     "metadata": {},
     "output_type": "execute_result"
    },
    {
     "data": {
      "image/png": "[encoded data removed]",
      "text/plain": [
       "<Figure size 432x288 with 1 Axes>"
      ]
     },
     "metadata": {
      "needs_background": "light"
     },
     "output_type": "display_data"
    }
   ],
   "source": [
    "plt.imshow(digit.images[0])"
   ]
  },
  {
   "cell_type": "code",
   "execution_count": 15,
   "id": "2cc6e322",
   "metadata": {},
   "outputs": [
    {
     "data": {
      "text/plain": [
       "<matplotlib.image.AxesImage at 0x136acb296d0>"
      ]
     },
     "execution_count": 15,
     "metadata": {},
     "output_type": "execute_result"
    },
    {
     "data": {
      "image/png": "[encoded data removed]",
      "text/plain": [
       "<Figure size 432x288 with 1 Axes>"
      ]
     },
     "metadata": {
      "needs_background": "light"
     },
     "output_type": "display_data"
    }
   ],
   "source": [
    "plt.imshow(digit.images[1])"
   ]
  },
  {
   "cell_type": "code",
   "execution_count": 16,
   "id": "4b18f894",
   "metadata": {},
   "outputs": [
    {
     "data": {
      "text/plain": [
       "<matplotlib.image.AxesImage at 0x136acba7730>"
      ]
     },
     "execution_count": 16,
     "metadata": {},
     "output_type": "execute_result"
    },
    {
     "data": {
      "image/png": "[encoded data removed]",
      "text/plain": [
       "<Figure size 432x288 with 1 Axes>"
      ]
     },
     "metadata": {
      "needs_background": "light"
     },
     "output_type": "display_data"
    }
   ],
   "source": [
    "plt.imshow(digit.images[5])"
   ]
  },
  {
   "cell_type": "code",
   "execution_count": 17,
   "id": "59e2de1c",
   "metadata": {},
   "outputs": [
    {
     "data": {
      "text/plain": [
       "<matplotlib.image.AxesImage at 0x136adbe3430>"
      ]
     },
     "execution_count": 17,
     "metadata": {},
     "output_type": "execute_result"
    },
    {
     "data": {
      "image/png": "[encoded data removed]",
      "text/plain": [
       "<Figure size 432x288 with 1 Axes>"
      ]
     },
     "metadata": {
      "needs_background": "light"
     },
     "output_type": "display_data"
    }
   ],
   "source": [
    "plt.imshow(digit.images[1200])"
   ]
  },
  {
   "cell_type": "code",
   "execution_count": 42,
   "id": "428b6c6f",
   "metadata": {},
   "outputs": [],
   "source": [
    "x=digit.data\n",
    "y=digit.target"
   ]
  },
  {
   "cell_type": "code",
   "execution_count": 43,
   "id": "aa3649d1",
   "metadata": {},
   "outputs": [],
   "source": [
    "X_train,X_test,y_train,y_test=train_test_split(x,y,test_size=0.2)"
   ]
  },
  {
   "cell_type": "code",
   "execution_count": 20,
   "id": "1d8aff43",
   "metadata": {},
   "outputs": [],
   "source": [
    "model=linear_model.LogisticRegression()\n",
    "#with logisticRegression we can made classification"
   ]
  },
  {
   "cell_type": "code",
   "execution_count": 22,
   "id": "1d21f8f0",
   "metadata": {},
   "outputs": [
    {
     "data": {
      "text/plain": [
       "(1437, 64)"
      ]
     },
     "execution_count": 22,
     "metadata": {},
     "output_type": "execute_result"
    }
   ],
   "source": [
    "X_train.shape"
   ]
  },
  {
   "cell_type": "code",
   "execution_count": 23,
   "id": "a99a35fc",
   "metadata": {},
   "outputs": [
    {
     "data": {
      "text/plain": [
       "(360, 64)"
      ]
     },
     "execution_count": 23,
     "metadata": {},
     "output_type": "execute_result"
    }
   ],
   "source": [
    "X_test.shape"
   ]
  },
  {
   "cell_type": "code",
   "execution_count": 24,
   "id": "8f4f53b0",
   "metadata": {},
   "outputs": [
    {
     "name": "stderr",
     "output_type": "stream",
     "text": [
      "d:\\ProgramData\\Anaconda3\\lib\\site-packages\\sklearn\\linear_model\\_logistic.py:814: ConvergenceWarning: lbfgs failed to converge (status=1):\n",
      "STOP: TOTAL NO. of ITERATIONS REACHED LIMIT.\n",
      "\n",
      "Increase the number of iterations (max_iter) or scale the data as shown in:\n",
      "    https://scikit-learn.org/stable/modules/preprocessing.html\n",
      "Please also refer to the documentation for alternative solver options:\n",
      "    https://scikit-learn.org/stable/modules/linear_model.html#logistic-regression\n",
      "  n_iter_i = _check_optimize_result(\n"
     ]
    },
    {
     "data": {
      "text/plain": [
       "LogisticRegression()"
      ]
     },
     "execution_count": 24,
     "metadata": {},
     "output_type": "execute_result"
    }
   ],
   "source": [
    "model.fit(X_train,y_train)"
   ]
  },
  {
   "cell_type": "code",
   "execution_count": null,
   "id": "e3c8c1eb",
   "metadata": {},
   "outputs": [],
   "source": [
    "out=model.predict(X_test)\n",
    "# we give to mdel pictures"
   ]
  },
  {
   "cell_type": "code",
   "execution_count": 26,
   "id": "5e7c4d14",
   "metadata": {},
   "outputs": [
    {
     "data": {
      "text/plain": [
       "array([4, 1, 0, 8, 8, 3, 3, 6, 9, 1, 2, 4, 6, 9, 2, 7, 6, 9, 8, 7, 0, 1,\n",
       "       0, 2, 5, 8, 6, 3, 2, 3, 0, 3, 7, 0, 7, 7, 2, 8, 5, 1, 1, 3, 5, 7,\n",
       "       7, 8, 5, 2, 5, 5, 5, 1, 7, 1, 5, 7, 7, 8, 6, 0, 6, 6, 9, 2, 1, 2,\n",
       "       0, 0, 1, 7, 4, 3, 0, 4, 9, 3, 5, 9, 5, 6, 7, 4, 7, 7, 5, 4, 1, 7,\n",
       "       5, 3, 8, 0, 0, 9, 8, 3, 4, 8, 9, 9, 2, 2, 1, 5, 6, 5, 4, 7, 8, 4,\n",
       "       1, 6, 0, 9, 1, 3, 0, 8, 6, 8, 0, 1, 1, 1, 0, 4, 9, 0, 5, 7, 5, 5,\n",
       "       9, 2, 1, 5, 1, 4, 0, 3, 5, 2, 7, 1, 1, 9, 2, 0, 8, 7, 8, 6, 7, 4,\n",
       "       1, 2, 4, 2, 2, 0, 2, 6, 2, 7, 6, 0, 4, 2, 4, 1, 6, 5, 2, 9, 7, 7,\n",
       "       6, 9, 8, 3, 5, 3, 8, 2, 6, 5, 9, 1, 9, 0, 5, 2, 6, 5, 8, 8, 1, 0,\n",
       "       7, 9, 9, 2, 4, 4, 7, 9, 1, 6, 4, 0, 3, 8, 7, 9, 5, 4, 5, 2, 7, 7,\n",
       "       6, 9, 3, 3, 9, 7, 4, 6, 1, 3, 2, 3, 7, 0, 1, 1, 5, 5, 2, 4, 4, 4,\n",
       "       8, 0, 8, 6, 3, 3, 7, 9, 2, 2, 6, 2, 8, 5, 7, 7, 6, 3, 3, 1, 9, 0,\n",
       "       2, 8, 2, 4, 4, 5, 5, 2, 9, 0, 5, 7, 7, 1, 8, 1, 4, 9, 7, 2, 2, 5,\n",
       "       5, 3, 3, 3, 5, 7, 0, 9, 4, 2, 6, 6, 8, 5, 0, 1, 4, 1, 2, 5, 5, 3,\n",
       "       5, 2, 3, 9, 8, 6, 0, 9, 8, 0, 0, 3, 4, 6, 1, 6, 8, 5, 1, 6, 0, 6,\n",
       "       8, 7, 0, 4, 5, 1, 6, 0, 3, 4, 1, 5, 6, 1, 3, 6, 6, 1, 6, 5, 1, 2,\n",
       "       5, 4, 1, 2, 1, 7, 7, 8])"
      ]
     },
     "execution_count": 26,
     "metadata": {},
     "output_type": "execute_result"
    }
   ],
   "source": [
    "out"
   ]
  },
  {
   "cell_type": "code",
   "execution_count": 27,
   "id": "81bae768",
   "metadata": {},
   "outputs": [
    {
     "data": {
      "text/plain": [
       "array([4, 1, 0, 8, 8, 3, 3, 6, 7, 1, 2, 4, 6, 9, 2, 7, 6, 9, 8, 7, 0, 1,\n",
       "       0, 2, 5, 9, 6, 3, 2, 3, 0, 3, 7, 0, 7, 7, 2, 8, 5, 1, 1, 3, 5, 7,\n",
       "       7, 8, 8, 2, 5, 5, 5, 1, 7, 2, 8, 7, 7, 8, 6, 0, 6, 6, 9, 2, 1, 2,\n",
       "       0, 0, 1, 7, 4, 3, 0, 5, 9, 3, 5, 9, 5, 6, 7, 4, 7, 7, 5, 4, 1, 7,\n",
       "       5, 3, 8, 0, 0, 9, 8, 3, 4, 8, 9, 9, 2, 2, 1, 5, 6, 5, 4, 7, 8, 4,\n",
       "       1, 6, 0, 9, 1, 3, 0, 8, 6, 8, 0, 1, 1, 1, 0, 4, 9, 0, 5, 7, 5, 5,\n",
       "       9, 2, 1, 5, 1, 4, 0, 3, 5, 2, 7, 5, 1, 5, 2, 0, 1, 7, 8, 6, 7, 4,\n",
       "       1, 2, 4, 8, 2, 0, 2, 6, 2, 7, 6, 0, 4, 2, 4, 1, 6, 5, 2, 9, 7, 7,\n",
       "       6, 9, 8, 3, 5, 3, 8, 2, 6, 5, 9, 1, 9, 0, 3, 2, 6, 5, 8, 8, 1, 0,\n",
       "       7, 9, 9, 2, 4, 4, 7, 9, 1, 6, 4, 0, 3, 1, 7, 9, 5, 4, 5, 2, 7, 7,\n",
       "       6, 9, 3, 3, 9, 7, 4, 6, 1, 3, 2, 3, 7, 0, 1, 1, 5, 5, 2, 4, 4, 4,\n",
       "       8, 0, 9, 6, 3, 3, 7, 9, 2, 2, 6, 2, 8, 5, 5, 7, 6, 3, 1, 1, 9, 0,\n",
       "       2, 8, 2, 4, 4, 5, 5, 2, 9, 0, 5, 7, 5, 1, 8, 1, 4, 9, 7, 2, 2, 5,\n",
       "       5, 3, 3, 9, 5, 7, 0, 9, 4, 2, 6, 6, 8, 5, 0, 1, 4, 1, 2, 5, 5, 3,\n",
       "       5, 2, 3, 9, 8, 6, 0, 9, 8, 0, 0, 3, 4, 6, 1, 6, 3, 5, 1, 6, 0, 6,\n",
       "       8, 7, 0, 4, 5, 1, 6, 0, 3, 4, 1, 5, 6, 1, 3, 6, 6, 1, 6, 5, 1, 2,\n",
       "       5, 4, 1, 2, 1, 7, 7, 8])"
      ]
     },
     "execution_count": 27,
     "metadata": {},
     "output_type": "execute_result"
    }
   ],
   "source": [
    "y_test"
   ]
  },
  {
   "cell_type": "code",
   "execution_count": null,
   "id": "1766942d",
   "metadata": {},
   "outputs": [],
   "source": [
    "er=y_test- out\n",
    "#one way to find error"
   ]
  },
  {
   "cell_type": "code",
   "execution_count": 29,
   "id": "c18f87ff",
   "metadata": {},
   "outputs": [
    {
     "data": {
      "text/plain": [
       "array([ 0,  0,  0,  0,  0,  0,  0,  0, -2,  0,  0,  0,  0,  0,  0,  0,  0,\n",
       "        0,  0,  0,  0,  0,  0,  0,  0,  1,  0,  0,  0,  0,  0,  0,  0,  0,\n",
       "        0,  0,  0,  0,  0,  0,  0,  0,  0,  0,  0,  0,  3,  0,  0,  0,  0,\n",
       "        0,  0,  1,  3,  0,  0,  0,  0,  0,  0,  0,  0,  0,  0,  0,  0,  0,\n",
       "        0,  0,  0,  0,  0,  1,  0,  0,  0,  0,  0,  0,  0,  0,  0,  0,  0,\n",
       "        0,  0,  0,  0,  0,  0,  0,  0,  0,  0,  0,  0,  0,  0,  0,  0,  0,\n",
       "        0,  0,  0,  0,  0,  0,  0,  0,  0,  0,  0,  0,  0,  0,  0,  0,  0,\n",
       "        0,  0,  0,  0,  0,  0,  0,  0,  0,  0,  0,  0,  0,  0,  0,  0,  0,\n",
       "        0,  0,  0,  0,  0,  0,  0,  4,  0, -4,  0,  0, -7,  0,  0,  0,  0,\n",
       "        0,  0,  0,  0,  6,  0,  0,  0,  0,  0,  0,  0,  0,  0,  0,  0,  0,\n",
       "        0,  0,  0,  0,  0,  0,  0,  0,  0,  0,  0,  0,  0,  0,  0,  0,  0,\n",
       "        0,  0,  0, -2,  0,  0,  0,  0,  0,  0,  0,  0,  0,  0,  0,  0,  0,\n",
       "        0,  0,  0,  0,  0,  0,  0, -7,  0,  0,  0,  0,  0,  0,  0,  0,  0,\n",
       "        0,  0,  0,  0,  0,  0,  0,  0,  0,  0,  0,  0,  0,  0,  0,  0,  0,\n",
       "        0,  0,  0,  0,  0,  0,  1,  0,  0,  0,  0,  0,  0,  0,  0,  0,  0,\n",
       "        0, -2,  0,  0,  0, -2,  0,  0,  0,  0,  0,  0,  0,  0,  0,  0,  0,\n",
       "        0,  0,  0,  0, -2,  0,  0,  0,  0,  0,  0,  0,  0,  0,  0,  0,  0,\n",
       "        6,  0,  0,  0,  0,  0,  0,  0,  0,  0,  0,  0,  0,  0,  0,  0,  0,\n",
       "        0,  0,  0,  0,  0,  0,  0,  0,  0,  0,  0,  0,  0,  0,  0,  0,  0,\n",
       "        0, -5,  0,  0,  0,  0,  0,  0,  0,  0,  0,  0,  0,  0,  0,  0,  0,\n",
       "        0,  0,  0,  0,  0,  0,  0,  0,  0,  0,  0,  0,  0,  0,  0,  0,  0,\n",
       "        0,  0,  0])"
      ]
     },
     "execution_count": 29,
     "metadata": {},
     "output_type": "execute_result"
    }
   ],
   "source": [
    "er"
   ]
  },
  {
   "cell_type": "code",
   "execution_count": 31,
   "id": "a51f38ec",
   "metadata": {},
   "outputs": [
    {
     "name": "stdout",
     "output_type": "stream",
     "text": [
      "[-2, 1, 3, 1, 3, 1, 4, -4, -7, 6, -2, -7, 1, -2, -2, -2, 6, -5]\n",
      "18\n"
     ]
    }
   ],
   "source": [
    "q=[]\n",
    "k=0\n",
    "for i in er:\n",
    "    if i!=0:\n",
    "        q.append(i)\n",
    "        k+=1\n",
    "print(q)\n",
    "print(k)"
   ]
  },
  {
   "cell_type": "code",
   "execution_count": 35,
   "id": "c7619a5c",
   "metadata": {},
   "outputs": [
    {
     "data": {
      "text/plain": [
       "0.95"
      ]
     },
     "execution_count": 35,
     "metadata": {},
     "output_type": "execute_result"
    }
   ],
   "source": [
    "x=18/360\n",
    "\n",
    "percent=1-x\n",
    "#this is my eror model\n",
    "percent"
   ]
  }
 ],
 "metadata": {
  "kernelspec": {
   "display_name": "base",
   "language": "python",
   "name": "python3"
  },
  "language_info": {
   "codemirror_mode": {
    "name": "ipython",
    "version": 3
   },
   "file_extension": ".py",
   "mimetype": "text/x-python",
   "name": "python",
   "nbconvert_exporter": "python",
   "pygments_lexer": "ipython3",
   "version": "3.9.12"
  }
 },
 "nbformat": 4,
 "nbformat_minor": 5
}
